{
 "cells": [
  {
   "cell_type": "code",
   "execution_count": 3,
   "id": "64390f7a",
   "metadata": {},
   "outputs": [
    {
     "name": "stdout",
     "output_type": "stream",
     "text": [
      "Fibonacci sequence:\n",
      "0\n",
      "1\n",
      "1\n",
      "2\n",
      "3\n",
      "5\n",
      "8\n",
      "13\n",
      "21\n",
      "34\n"
     ]
    }
   ],
   "source": [
    "#Q1 Write a Python Program to Display Fibonacci Sequence Using Recursion?\n",
    "def recur_fibo(n):\n",
    "    \n",
    "    if n <= 1:\n",
    "        return n\n",
    "    else:\n",
    "        return(recur_fibo(n-1) + recur_fibo(n-2))\n",
    "nterms = 10\n",
    "if nterms <= 0:\n",
    "   print(\"Plese enter a positive integer\")\n",
    "else:\n",
    "   print(\"Fibonacci sequence:\")\n",
    "   for i in range(nterms):\n",
    "       print(recur_fibo(i))"
   ]
  },
  {
   "cell_type": "code",
   "execution_count": 8,
   "id": "31a3d5a7",
   "metadata": {},
   "outputs": [
    {
     "name": "stdout",
     "output_type": "stream",
     "text": [
      "Enter your weight in Kg100\n",
      "Enter your height in metre1.64\n",
      "Your BMI is  37.18024985127901\n"
     ]
    }
   ],
   "source": [
    "#Q2 Write a Python Program to calculate your Body Mass Index?\n",
    "kg=int(input(\"Enter your weight in Kg\"))\n",
    "h= float(input(\"Enter your height in metre\"))\n",
    "a=h*h\n",
    "BMI= kg/a\n",
    "print(\"Your BMI is \",BMI)\n"
   ]
  },
  {
   "cell_type": "code",
   "execution_count": 9,
   "id": "162a93c6",
   "metadata": {},
   "outputs": [
    {
     "name": "stdout",
     "output_type": "stream",
     "text": [
      "Enter your number8\n",
      "1296\n"
     ]
    }
   ],
   "source": [
    "#Q3 Write a Python Program for cube sum of first n natural numbers?\n",
    "n=int(input(\"Enter your number\"))\n",
    "s=0\n",
    "for i in range(1,n+1):\n",
    "    s=s+pow(i,3)\n",
    "print(s)   \n",
    " "
   ]
  },
  {
   "cell_type": "code",
   "execution_count": 10,
   "id": "9323d45c",
   "metadata": {},
   "outputs": [
    {
     "name": "stdout",
     "output_type": "stream",
     "text": [
      "Enter your number5\n",
      "1.6094379124341003\n"
     ]
    }
   ],
   "source": [
    "#Q4 Write a Python Program to calculate the natural logarithm of any number?\n",
    "import math\n",
    "n= int(input(\"Enter your number\"))\n",
    "a=math.log(n)\n",
    "print(a)"
   ]
  },
  {
   "cell_type": "code",
   "execution_count": null,
   "id": "e9e61c8d",
   "metadata": {},
   "outputs": [],
   "source": []
  }
 ],
 "metadata": {
  "kernelspec": {
   "display_name": "Python 3 (ipykernel)",
   "language": "python",
   "name": "python3"
  },
  "language_info": {
   "codemirror_mode": {
    "name": "ipython",
    "version": 3
   },
   "file_extension": ".py",
   "mimetype": "text/x-python",
   "name": "python",
   "nbconvert_exporter": "python",
   "pygments_lexer": "ipython3",
   "version": "3.9.7"
  }
 },
 "nbformat": 4,
 "nbformat_minor": 5
}
